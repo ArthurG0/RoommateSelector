{
 "cells": [
  {
   "cell_type": "code",
   "execution_count": 1,
   "metadata": {},
   "outputs": [],
   "source": [
    "import numpy as np"
   ]
  },
  {
   "cell_type": "code",
   "execution_count": 5,
   "metadata": {},
   "outputs": [
    {
     "data": {
      "text/plain": [
       "array([[-1.,  1.,  1.,  1.,  1.,  1.],\n",
       "       [ 1., -1.,  1.,  1.,  1.,  1.],\n",
       "       [ 1.,  1., -1.,  1.,  1.,  1.],\n",
       "       [ 1.,  1.,  1., -1.,  1.,  1.],\n",
       "       [ 1.,  1.,  1.,  1., -1.,  1.],\n",
       "       [ 1.,  1.,  1.,  1.,  1., -1.]])"
      ]
     },
     "execution_count": 5,
     "metadata": {},
     "output_type": "execute_result"
    }
   ],
   "source": [
    "table = np.ones(36).reshape(6,6)\n",
    "table = table - np.eye(6) * 2\n",
    "table"
   ]
  },
  {
   "cell_type": "code",
   "execution_count": 7,
   "metadata": {},
   "outputs": [],
   "source": [
    "table[0][1] = 1\n",
    "table[0][2] = 1\n",
    "table[0][3] = 3\n",
    "table[0][4] = 5\n",
    "table[0][5] = 3\n",
    "\n",
    "table[1][0] = 3\n",
    "table[1][2] = 3\n",
    "table[1][3] = 5\n",
    "table[1][4] = 5\n",
    "table[1][5] = 1\n",
    "\n",
    "table[2][0] = 1\n",
    "table[2][1] = 3\n",
    "table[2][3] = 3\n",
    "table[2][4] = 5\n",
    "table[2][5] = 5\n",
    "\n",
    "table[3][0] = 1\n",
    "table[3][1] = 1\n",
    "table[3][2] = 3\n",
    "table[3][4] = 3\n",
    "table[3][5] = 5\n",
    "\n",
    "table[4][0] = 1\n",
    "table[4][1] = 5\n",
    "table[4][2] = 3\n",
    "table[4][3] = 5\n",
    "table[4][5] = 3\n",
    "\n",
    "table[5][0] = 1\n",
    "table[5][1] = 3\n",
    "table[5][2] = 5\n",
    "table[5][3] = 3\n",
    "table[5][4] = 5\n"
   ]
  },
  {
   "cell_type": "code",
   "execution_count": null,
   "metadata": {},
   "outputs": [],
   "source": [
    "\n"
   ]
  },
  {
   "cell_type": "code",
   "execution_count": null,
   "metadata": {},
   "outputs": [],
   "source": []
  },
  {
   "cell_type": "code",
   "execution_count": null,
   "metadata": {},
   "outputs": [],
   "source": []
  },
  {
   "cell_type": "code",
   "execution_count": null,
   "metadata": {},
   "outputs": [],
   "source": []
  },
  {
   "cell_type": "code",
   "execution_count": null,
   "metadata": {},
   "outputs": [],
   "source": []
  },
  {
   "cell_type": "code",
   "execution_count": null,
   "metadata": {},
   "outputs": [],
   "source": []
  }
 ],
 "metadata": {
  "kernelspec": {
   "display_name": "Python 3",
   "language": "python",
   "name": "python3"
  },
  "language_info": {
   "codemirror_mode": {
    "name": "ipython",
    "version": 3
   },
   "file_extension": ".py",
   "mimetype": "text/x-python",
   "name": "python",
   "nbconvert_exporter": "python",
   "pygments_lexer": "ipython3",
   "version": "3.7.4"
  }
 },
 "nbformat": 4,
 "nbformat_minor": 2
}
